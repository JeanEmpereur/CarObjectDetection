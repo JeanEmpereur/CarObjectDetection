{
  "cells": [
    {
      "cell_type": "markdown",
      "metadata": {
        "cell_id": "b569e1f038a24803a583addc659fda04",
        "deepnote_cell_height": 51.73333740234375,
        "deepnote_cell_type": "markdown",
        "id": "qmk9T_v75nkv",
        "tags": []
      },
      "source": [
        "Importation des librairies"
      ]
    },
    {
      "cell_type": "code",
      "execution_count": 84,
      "metadata": {
        "cell_id": "8eb9c10f23c84023965d6308ef920efa",
        "deepnote_cell_height": 692.3333129882812,
        "deepnote_cell_type": "code",
        "deepnote_to_be_reexecuted": false,
        "execution_millis": 6811,
        "execution_start": 1659077975114,
        "id": "Sm-7LBHV5nky",
        "source_hash": "ca90eb8b",
        "tags": []
      },
      "outputs": [],
      "source": [
        "# import libraries\n",
        "from IPython.display import Image, display\n",
        "import numpy as np\n",
        "import os, sys, tarfile\n",
        "from os.path import join\n",
        "from PIL import ImageFile\n",
        "import pandas as pd\n",
        "from matplotlib import cm\n",
        "import seaborn as sns\n",
        "from tensorflow.python.keras.models import Sequential\n",
        "from tensorflow.python.keras.layers import Dense, Flatten, GlobalAveragePooling2D\n",
        "from tensorflow.keras.applications import ResNet50, vgg16\n",
        "from tensorflow.keras.preprocessing.image import load_img, img_to_array\n",
        "from sklearn.metrics import mean_squared_error, mean_absolute_error, roc_auc_score, classification_report, confusion_matrix\n",
        "from sklearn.utils import shuffle\n",
        "from sklearn.model_selection import train_test_split\n",
        "from sklearn.preprocessing import StandardScaler\n",
        "from sklearn.decomposition import PCA\n",
        "from sklearn.ensemble import IsolationForest\n",
        "from sklearn import svm\n",
        "from sklearn.mixture import GaussianMixture\n",
        "from sklearn.isotonic import IsotonicRegression\n",
        "import re\n",
        "import scipy.io\n",
        "import matplotlib.pyplot as plt\n",
        "from datetime import datetime, date, time\n",
        "from keras.layers import Dense, Activation, Flatten, Dropout, BatchNormalization\n",
        "from keras.layers import Conv2D, MaxPooling2D\n",
        "from keras import regularizers, optimizers\n",
        "import pandas as pd\n",
        "from tensorflow.keras.applications import ResNet50V2\n",
        "from tensorflow.keras.applications.resnet50 import ResNet50\n",
        "from tensorflow.keras.preprocessing import image\n",
        "from tensorflow.keras.applications.resnet50 import preprocess_input, decode_predictions\n",
        "from tensorflow.keras.optimizers import RMSprop\n",
        "from tensorflow.keras import layers\n",
        "from tensorflow.keras import Model\n",
        "from keras_preprocessing.image import ImageDataGenerator"
      ]
    },
    {
      "cell_type": "markdown",
      "metadata": {
        "cell_id": "fd4541b646164440b1a86a78d70c8f6d",
        "deepnote_cell_height": 51.73333740234375,
        "deepnote_cell_type": "markdown",
        "id": "_uwTIkGQ5nk2",
        "tags": []
      },
      "source": [
        "Récupération du dataset"
      ]
    },
    {
      "cell_type": "code",
      "execution_count": null,
      "metadata": {
        "cell_id": "b7379fc22fd94ddda632d1333f4370b5",
        "colab": {
          "base_uri": "https://localhost:8080/"
        },
        "deepnote_cell_height": 304.5333251953125,
        "deepnote_cell_type": "code",
        "deepnote_to_be_reexecuted": false,
        "execution_millis": 118329,
        "execution_start": 1659077981927,
        "id": "f7L_iXDV5nk5",
        "outputId": "c7d67edd-a7c6-428a-b33c-8fce2a8f5cb7",
        "source_hash": "1b80d641",
        "tags": []
      },
      "outputs": [
        {
          "name": "stdout",
          "output_type": "stream",
          "text": [
            "--2022-07-29 07:46:30--  http://ai.stanford.edu/~jkrause/car196/car_ims.tgz\n",
            "Resolving ai.stanford.edu (ai.stanford.edu)... 171.64.68.10\n",
            "Connecting to ai.stanford.edu (ai.stanford.edu)|171.64.68.10|:80... connected.\n",
            "HTTP request sent, awaiting response... 200 OK\n",
            "Length: 1956628579 (1.8G) [application/x-gzip]\n",
            "Saving to: ‘car_ims.tgz’\n",
            "\n",
            "car_ims.tgz         100%[===================>]   1.82G  21.8MB/s    in 87s     \n",
            "\n",
            "2022-07-29 07:47:57 (21.5 MB/s) - ‘car_ims.tgz’ saved [1956628579/1956628579]\n",
            "\n",
            "/content/sample_data/car_ims.tgz: Scheme missing.\n",
            "FINISHED --2022-07-29 07:47:57--\n",
            "Total wall clock time: 1m 27s\n",
            "Downloaded: 1 files, 1.8G in 1m 27s (21.5 MB/s)\n"
          ]
        }
      ],
      "source": [
        "!wget http://ai.stanford.edu/~jkrause/car196/car_ims.tgz ./car_ims.tgz"
      ]
    },
    {
      "cell_type": "markdown",
      "metadata": {
        "cell_id": "1a3955f738ce409bb15d562326fc728f",
        "deepnote_cell_height": 51.73333740234375,
        "deepnote_cell_type": "markdown",
        "id": "SjxrBg6h5nk6",
        "tags": []
      },
      "source": [
        "Extraction du dossier"
      ]
    },
    {
      "cell_type": "code",
      "execution_count": null,
      "metadata": {
        "cell_id": "d84c8c55a56d42c7a5819c2eb418ba5f",
        "colab": {
          "base_uri": "https://localhost:8080/"
        },
        "deepnote_cell_height": 322.33331298828125,
        "deepnote_cell_type": "code",
        "deepnote_to_be_reexecuted": true,
        "execution_millis": 83128,
        "execution_start": 1659019498544,
        "id": "8Jd74UzQ5nk-",
        "outputId": "932ea401-a110-4f78-9afb-f22177d58c57",
        "source_hash": "7347f2ec",
        "tags": []
      },
      "outputs": [
        {
          "name": "stdout",
          "output_type": "stream",
          "text": [
            "ipykernel_launcher <filename>\n"
          ]
        }
      ],
      "source": [
        "def extract(tar_url, extract_path='./data'):\n",
        "    tar = tarfile.open(tar_url, 'r')\n",
        "    for item in tar:\n",
        "        tar.extract(item, extract_path)\n",
        "        if item.name.find(\".tgz\") != -1 or item.name.find(\".tar\") != -1:\n",
        "            extract(item.name, \"./\" + item.name[:item.name.rfind('/')])\n",
        "try:\n",
        "\n",
        "    extract('./car_ims.tgz')\n",
        "    print ('Done.')\n",
        "except:\n",
        "    name = os.path.basename(sys.argv[0])\n",
        "    print (name[:name.rfind('.')], '<filename>')"
      ]
    },
    {
      "cell_type": "markdown",
      "metadata": {
        "cell_id": "c76ae61eb7a54faea5d58b7e311db658",
        "deepnote_cell_height": 51.73333740234375,
        "deepnote_cell_type": "markdown",
        "id": "PGL71enP5nlB",
        "tags": []
      },
      "source": [
        "Récupération des data d'entrainement"
      ]
    },
    {
      "cell_type": "code",
      "execution_count": null,
      "metadata": {
        "cell_id": "00004-1c828c6d-fbf0-4900-a2c1-5cb145097aca",
        "colab": {
          "base_uri": "https://localhost:8080/"
        },
        "deepnote_cell_height": 232.3333282470703,
        "deepnote_cell_type": "code",
        "deepnote_to_be_reexecuted": true,
        "execution_millis": 792,
        "execution_start": 1659019581163,
        "id": "KMrbllgAFipZ",
        "outputId": "f482712f-532f-4158-cf16-8e9a88cf71c8",
        "source_hash": "5bfa4fc2"
      },
      "outputs": [
        {
          "name": "stdout",
          "output_type": "stream",
          "text": [
            "16185\n"
          ]
        }
      ],
      "source": [
        "# recup all data for the training set\n",
        "local_folder_train = './data/car_ims/'\n",
        "train_img_paths_n = [join(local_folder_train,filename) for filename in os.listdir(local_folder_train)]\n",
        "print(len(train_img_paths_n))\n",
        "# pre_trained_model = InceptionV3(\n",
        "#     input_shape=(150, 150, 3), include_top=False, weights=None)\n",
        "# pre_trained_model.load_weights(local_weights_file)\n"
      ]
    },
    {
      "cell_type": "markdown",
      "metadata": {
        "cell_id": "e94d1caa62f346638cee22e96a9e028f",
        "deepnote_cell_height": 45.33332824707031,
        "deepnote_cell_type": "markdown",
        "id": "UJ1e-z1j5nlJ",
        "tags": []
      },
      "source": []
    },
    {
      "cell_type": "code",
      "execution_count": null,
      "metadata": {
        "cell_id": "2bbdbb378ac34ec9ac7501b6e3a7c7c1",
        "colab": {
          "base_uri": "https://localhost:8080/"
        },
        "deepnote_cell_height": 250.3333282470703,
        "deepnote_cell_type": "code",
        "deepnote_to_be_reexecuted": true,
        "execution_millis": 885,
        "execution_start": 1659019581270,
        "id": "xSFEX3LK5nlK",
        "outputId": "e2665a16-6ac8-4661-aab9-74bb192deca3",
        "source_hash": "60fcd956",
        "tags": []
      },
      "outputs": [
        {
          "name": "stdout",
          "output_type": "stream",
          "text": [
            "196\n"
          ]
        }
      ],
      "source": [
        "#import mat table\n",
        "mat = scipy.io.loadmat('./cars_annos.mat')\n",
        "annot = mat['annotations']\n",
        "annotd = annot.dtype\n",
        "classn = mat['class_names']\n",
        "classnd = classn.dtype\n",
        "annotation = {n: annot[n][0, 0] for n in annotd.names}\n",
        "print(len(classn[0]))\n"
      ]
    },
    {
      "cell_type": "code",
      "execution_count": null,
      "metadata": {
        "cell_id": "3cfe382372cd4a21bc266bda0fa22285",
        "colab": {
          "base_uri": "https://localhost:8080/"
        },
        "deepnote_cell_height": 1100.7333984375,
        "deepnote_cell_type": "code",
        "deepnote_output_heights": [
          null,
          611
        ],
        "deepnote_to_be_reexecuted": true,
        "execution_millis": 587,
        "execution_start": 1659019582161,
        "id": "LxqB1OhI5nlO",
        "outputId": "2e4d630d-9df7-4657-a00f-ae61d53d24f0",
        "source_hash": "bd0b5412",
        "tags": []
      },
      "outputs": [],
      "source": [
        "# transform mat table to dict array\n",
        "j = 0\n",
        "for k, v in annotation.items() :\n",
        "    value = []\n",
        "    for a in annot :\n",
        "        for i in range(0,len(a)) :\n",
        "            if j >= 1 :\n",
        "                value.append(a[i][j][0][0])\n",
        "            else :\n",
        "                value.append(a[i][j][0])\n",
        "    annotation[k] = value\n",
        "    j += 1\n",
        "annotation"
      ]
    },
    {
      "cell_type": "code",
      "execution_count": null,
      "metadata": {
        "cell_id": "ff4d3e9574e8415d8a457150f9b531bf",
        "colab": {
          "base_uri": "https://localhost:8080/",
          "height": 424
        },
        "deepnote_cell_height": 665.3333129882812,
        "deepnote_cell_type": "code",
        "deepnote_table_loading": false,
        "deepnote_table_state": {
          "filters": [],
          "pageIndex": 0,
          "pageSize": 10,
          "sortBy": []
        },
        "deepnote_to_be_reexecuted": true,
        "execution_millis": 220,
        "execution_start": 1659019582755,
        "id": "xncJ1BV45nlQ",
        "outputId": "9b0216db-f2e7-4844-98e2-e79dc72a589e",
        "source_hash": "5e02416b",
        "tags": []
      },
      "outputs": [
        {
          "data": {
            "text/html": [
              "\n",
              "  <div id=\"df-b6fa4974-5a98-4a85-a161-4ef7cfc48829\">\n",
              "    <div class=\"colab-df-container\">\n",
              "      <div>\n",
              "<style scoped>\n",
              "    .dataframe tbody tr th:only-of-type {\n",
              "        vertical-align: middle;\n",
              "    }\n",
              "\n",
              "    .dataframe tbody tr th {\n",
              "        vertical-align: top;\n",
              "    }\n",
              "\n",
              "    .dataframe thead th {\n",
              "        text-align: right;\n",
              "    }\n",
              "</style>\n",
              "<table border=\"1\" class=\"dataframe\">\n",
              "  <thead>\n",
              "    <tr style=\"text-align: right;\">\n",
              "      <th></th>\n",
              "      <th>relative_im_path</th>\n",
              "      <th>bbox_x1</th>\n",
              "      <th>bbox_y1</th>\n",
              "      <th>bbox_x2</th>\n",
              "      <th>bbox_y2</th>\n",
              "      <th>class</th>\n",
              "      <th>test</th>\n",
              "    </tr>\n",
              "  </thead>\n",
              "  <tbody>\n",
              "    <tr>\n",
              "      <th>0</th>\n",
              "      <td>car_ims/000001.jpg</td>\n",
              "      <td>112</td>\n",
              "      <td>7</td>\n",
              "      <td>853</td>\n",
              "      <td>717</td>\n",
              "      <td>1</td>\n",
              "      <td>0</td>\n",
              "    </tr>\n",
              "    <tr>\n",
              "      <th>1</th>\n",
              "      <td>car_ims/000002.jpg</td>\n",
              "      <td>48</td>\n",
              "      <td>24</td>\n",
              "      <td>441</td>\n",
              "      <td>202</td>\n",
              "      <td>1</td>\n",
              "      <td>0</td>\n",
              "    </tr>\n",
              "    <tr>\n",
              "      <th>2</th>\n",
              "      <td>car_ims/000003.jpg</td>\n",
              "      <td>7</td>\n",
              "      <td>4</td>\n",
              "      <td>277</td>\n",
              "      <td>180</td>\n",
              "      <td>1</td>\n",
              "      <td>0</td>\n",
              "    </tr>\n",
              "    <tr>\n",
              "      <th>3</th>\n",
              "      <td>car_ims/000004.jpg</td>\n",
              "      <td>33</td>\n",
              "      <td>50</td>\n",
              "      <td>197</td>\n",
              "      <td>150</td>\n",
              "      <td>1</td>\n",
              "      <td>0</td>\n",
              "    </tr>\n",
              "    <tr>\n",
              "      <th>4</th>\n",
              "      <td>car_ims/000005.jpg</td>\n",
              "      <td>5</td>\n",
              "      <td>8</td>\n",
              "      <td>83</td>\n",
              "      <td>58</td>\n",
              "      <td>1</td>\n",
              "      <td>0</td>\n",
              "    </tr>\n",
              "    <tr>\n",
              "      <th>...</th>\n",
              "      <td>...</td>\n",
              "      <td>...</td>\n",
              "      <td>...</td>\n",
              "      <td>...</td>\n",
              "      <td>...</td>\n",
              "      <td>...</td>\n",
              "      <td>...</td>\n",
              "    </tr>\n",
              "    <tr>\n",
              "      <th>16180</th>\n",
              "      <td>car_ims/016181.jpg</td>\n",
              "      <td>38</td>\n",
              "      <td>36</td>\n",
              "      <td>375</td>\n",
              "      <td>234</td>\n",
              "      <td>-60</td>\n",
              "      <td>1</td>\n",
              "    </tr>\n",
              "    <tr>\n",
              "      <th>16181</th>\n",
              "      <td>car_ims/016182.jpg</td>\n",
              "      <td>29</td>\n",
              "      <td>34</td>\n",
              "      <td>235</td>\n",
              "      <td>164</td>\n",
              "      <td>-60</td>\n",
              "      <td>1</td>\n",
              "    </tr>\n",
              "    <tr>\n",
              "      <th>16182</th>\n",
              "      <td>car_ims/016183.jpg</td>\n",
              "      <td>25</td>\n",
              "      <td>32</td>\n",
              "      <td>587</td>\n",
              "      <td>359</td>\n",
              "      <td>-60</td>\n",
              "      <td>1</td>\n",
              "    </tr>\n",
              "    <tr>\n",
              "      <th>16183</th>\n",
              "      <td>car_ims/016184.jpg</td>\n",
              "      <td>56</td>\n",
              "      <td>60</td>\n",
              "      <td>208</td>\n",
              "      <td>186</td>\n",
              "      <td>-60</td>\n",
              "      <td>1</td>\n",
              "    </tr>\n",
              "    <tr>\n",
              "      <th>16184</th>\n",
              "      <td>car_ims/016185.jpg</td>\n",
              "      <td>1</td>\n",
              "      <td>1</td>\n",
              "      <td>200</td>\n",
              "      <td>131</td>\n",
              "      <td>-60</td>\n",
              "      <td>1</td>\n",
              "    </tr>\n",
              "  </tbody>\n",
              "</table>\n",
              "<p>16185 rows × 7 columns</p>\n",
              "</div>\n",
              "      <button class=\"colab-df-convert\" onclick=\"convertToInteractive('df-b6fa4974-5a98-4a85-a161-4ef7cfc48829')\"\n",
              "              title=\"Convert this dataframe to an interactive table.\"\n",
              "              style=\"display:none;\">\n",
              "        \n",
              "  <svg xmlns=\"http://www.w3.org/2000/svg\" height=\"24px\"viewBox=\"0 0 24 24\"\n",
              "       width=\"24px\">\n",
              "    <path d=\"M0 0h24v24H0V0z\" fill=\"none\"/>\n",
              "    <path d=\"M18.56 5.44l.94 2.06.94-2.06 2.06-.94-2.06-.94-.94-2.06-.94 2.06-2.06.94zm-11 1L8.5 8.5l.94-2.06 2.06-.94-2.06-.94L8.5 2.5l-.94 2.06-2.06.94zm10 10l.94 2.06.94-2.06 2.06-.94-2.06-.94-.94-2.06-.94 2.06-2.06.94z\"/><path d=\"M17.41 7.96l-1.37-1.37c-.4-.4-.92-.59-1.43-.59-.52 0-1.04.2-1.43.59L10.3 9.45l-7.72 7.72c-.78.78-.78 2.05 0 2.83L4 21.41c.39.39.9.59 1.41.59.51 0 1.02-.2 1.41-.59l7.78-7.78 2.81-2.81c.8-.78.8-2.07 0-2.86zM5.41 20L4 18.59l7.72-7.72 1.47 1.35L5.41 20z\"/>\n",
              "  </svg>\n",
              "      </button>\n",
              "      \n",
              "  <style>\n",
              "    .colab-df-container {\n",
              "      display:flex;\n",
              "      flex-wrap:wrap;\n",
              "      gap: 12px;\n",
              "    }\n",
              "\n",
              "    .colab-df-convert {\n",
              "      background-color: #E8F0FE;\n",
              "      border: none;\n",
              "      border-radius: 50%;\n",
              "      cursor: pointer;\n",
              "      display: none;\n",
              "      fill: #1967D2;\n",
              "      height: 32px;\n",
              "      padding: 0 0 0 0;\n",
              "      width: 32px;\n",
              "    }\n",
              "\n",
              "    .colab-df-convert:hover {\n",
              "      background-color: #E2EBFA;\n",
              "      box-shadow: 0px 1px 2px rgba(60, 64, 67, 0.3), 0px 1px 3px 1px rgba(60, 64, 67, 0.15);\n",
              "      fill: #174EA6;\n",
              "    }\n",
              "\n",
              "    [theme=dark] .colab-df-convert {\n",
              "      background-color: #3B4455;\n",
              "      fill: #D2E3FC;\n",
              "    }\n",
              "\n",
              "    [theme=dark] .colab-df-convert:hover {\n",
              "      background-color: #434B5C;\n",
              "      box-shadow: 0px 1px 3px 1px rgba(0, 0, 0, 0.15);\n",
              "      filter: drop-shadow(0px 1px 2px rgba(0, 0, 0, 0.3));\n",
              "      fill: #FFFFFF;\n",
              "    }\n",
              "  </style>\n",
              "\n",
              "      <script>\n",
              "        const buttonEl =\n",
              "          document.querySelector('#df-b6fa4974-5a98-4a85-a161-4ef7cfc48829 button.colab-df-convert');\n",
              "        buttonEl.style.display =\n",
              "          google.colab.kernel.accessAllowed ? 'block' : 'none';\n",
              "\n",
              "        async function convertToInteractive(key) {\n",
              "          const element = document.querySelector('#df-b6fa4974-5a98-4a85-a161-4ef7cfc48829');\n",
              "          const dataTable =\n",
              "            await google.colab.kernel.invokeFunction('convertToInteractive',\n",
              "                                                     [key], {});\n",
              "          if (!dataTable) return;\n",
              "\n",
              "          const docLinkHtml = 'Like what you see? Visit the ' +\n",
              "            '<a target=\"_blank\" href=https://colab.research.google.com/notebooks/data_table.ipynb>data table notebook</a>'\n",
              "            + ' to learn more about interactive tables.';\n",
              "          element.innerHTML = '';\n",
              "          dataTable['output_type'] = 'display_data';\n",
              "          await google.colab.output.renderOutput(dataTable, element);\n",
              "          const docLink = document.createElement('div');\n",
              "          docLink.innerHTML = docLinkHtml;\n",
              "          element.appendChild(docLink);\n",
              "        }\n",
              "      </script>\n",
              "    </div>\n",
              "  </div>\n",
              "  "
            ],
            "text/plain": [
              "         relative_im_path  bbox_x1  bbox_y1  bbox_x2  bbox_y2  class  test\n",
              "0      car_ims/000001.jpg      112        7      853      717      1     0\n",
              "1      car_ims/000002.jpg       48       24      441      202      1     0\n",
              "2      car_ims/000003.jpg        7        4      277      180      1     0\n",
              "3      car_ims/000004.jpg       33       50      197      150      1     0\n",
              "4      car_ims/000005.jpg        5        8       83       58      1     0\n",
              "...                   ...      ...      ...      ...      ...    ...   ...\n",
              "16180  car_ims/016181.jpg       38       36      375      234    -60     1\n",
              "16181  car_ims/016182.jpg       29       34      235      164    -60     1\n",
              "16182  car_ims/016183.jpg       25       32      587      359    -60     1\n",
              "16183  car_ims/016184.jpg       56       60      208      186    -60     1\n",
              "16184  car_ims/016185.jpg        1        1      200      131    -60     1\n",
              "\n",
              "[16185 rows x 7 columns]"
            ]
          },
          "execution_count": 56,
          "metadata": {},
          "output_type": "execute_result"
        }
      ],
      "source": [
        "# df_annot\n",
        "columns = [n for n in annotation.keys()]\n",
        "df_annot = pd.DataFrame(annotation, columns=columns)\n",
        "df_annot"
      ]
    },
    {
      "cell_type": "code",
      "execution_count": null,
      "metadata": {
        "cell_id": "96fd15257fbc49c39251bdf3a1a2bf1b",
        "colab": {
          "base_uri": "https://localhost:8080/",
          "height": 424
        },
        "deepnote_cell_height": 737.6666870117188,
        "deepnote_cell_type": "code",
        "deepnote_to_be_reexecuted": true,
        "execution_millis": 45,
        "execution_start": 1659019582976,
        "id": "eREPaJOp5nlS",
        "outputId": "54e2534f-535e-4f29-bd97-75c9d58a6a59",
        "source_hash": "c71db920",
        "tags": []
      },
      "outputs": [
        {
          "data": {
            "text/html": [
              "\n",
              "  <div id=\"df-6333fae7-8fa4-4234-a28f-985decff5ef5\">\n",
              "    <div class=\"colab-df-container\">\n",
              "      <div>\n",
              "<style scoped>\n",
              "    .dataframe tbody tr th:only-of-type {\n",
              "        vertical-align: middle;\n",
              "    }\n",
              "\n",
              "    .dataframe tbody tr th {\n",
              "        vertical-align: top;\n",
              "    }\n",
              "\n",
              "    .dataframe thead th {\n",
              "        text-align: right;\n",
              "    }\n",
              "</style>\n",
              "<table border=\"1\" class=\"dataframe\">\n",
              "  <thead>\n",
              "    <tr style=\"text-align: right;\">\n",
              "      <th></th>\n",
              "      <th>class</th>\n",
              "    </tr>\n",
              "  </thead>\n",
              "  <tbody>\n",
              "    <tr>\n",
              "      <th>0</th>\n",
              "      <td>AM General Hummer SUV 2000</td>\n",
              "    </tr>\n",
              "    <tr>\n",
              "      <th>1</th>\n",
              "      <td>Acura RL Sedan 2012</td>\n",
              "    </tr>\n",
              "    <tr>\n",
              "      <th>2</th>\n",
              "      <td>Acura TL Sedan 2012</td>\n",
              "    </tr>\n",
              "    <tr>\n",
              "      <th>3</th>\n",
              "      <td>Acura TL Type-S 2008</td>\n",
              "    </tr>\n",
              "    <tr>\n",
              "      <th>4</th>\n",
              "      <td>Acura TSX Sedan 2012</td>\n",
              "    </tr>\n",
              "    <tr>\n",
              "      <th>...</th>\n",
              "      <td>...</td>\n",
              "    </tr>\n",
              "    <tr>\n",
              "      <th>191</th>\n",
              "      <td>Volkswagen Beetle Hatchback 2012</td>\n",
              "    </tr>\n",
              "    <tr>\n",
              "      <th>192</th>\n",
              "      <td>Volvo C30 Hatchback 2012</td>\n",
              "    </tr>\n",
              "    <tr>\n",
              "      <th>193</th>\n",
              "      <td>Volvo 240 Sedan 1993</td>\n",
              "    </tr>\n",
              "    <tr>\n",
              "      <th>194</th>\n",
              "      <td>Volvo XC90 SUV 2007</td>\n",
              "    </tr>\n",
              "    <tr>\n",
              "      <th>195</th>\n",
              "      <td>smart fortwo Convertible 2012</td>\n",
              "    </tr>\n",
              "  </tbody>\n",
              "</table>\n",
              "<p>196 rows × 1 columns</p>\n",
              "</div>\n",
              "      <button class=\"colab-df-convert\" onclick=\"convertToInteractive('df-6333fae7-8fa4-4234-a28f-985decff5ef5')\"\n",
              "              title=\"Convert this dataframe to an interactive table.\"\n",
              "              style=\"display:none;\">\n",
              "        \n",
              "  <svg xmlns=\"http://www.w3.org/2000/svg\" height=\"24px\"viewBox=\"0 0 24 24\"\n",
              "       width=\"24px\">\n",
              "    <path d=\"M0 0h24v24H0V0z\" fill=\"none\"/>\n",
              "    <path d=\"M18.56 5.44l.94 2.06.94-2.06 2.06-.94-2.06-.94-.94-2.06-.94 2.06-2.06.94zm-11 1L8.5 8.5l.94-2.06 2.06-.94-2.06-.94L8.5 2.5l-.94 2.06-2.06.94zm10 10l.94 2.06.94-2.06 2.06-.94-2.06-.94-.94-2.06-.94 2.06-2.06.94z\"/><path d=\"M17.41 7.96l-1.37-1.37c-.4-.4-.92-.59-1.43-.59-.52 0-1.04.2-1.43.59L10.3 9.45l-7.72 7.72c-.78.78-.78 2.05 0 2.83L4 21.41c.39.39.9.59 1.41.59.51 0 1.02-.2 1.41-.59l7.78-7.78 2.81-2.81c.8-.78.8-2.07 0-2.86zM5.41 20L4 18.59l7.72-7.72 1.47 1.35L5.41 20z\"/>\n",
              "  </svg>\n",
              "      </button>\n",
              "      \n",
              "  <style>\n",
              "    .colab-df-container {\n",
              "      display:flex;\n",
              "      flex-wrap:wrap;\n",
              "      gap: 12px;\n",
              "    }\n",
              "\n",
              "    .colab-df-convert {\n",
              "      background-color: #E8F0FE;\n",
              "      border: none;\n",
              "      border-radius: 50%;\n",
              "      cursor: pointer;\n",
              "      display: none;\n",
              "      fill: #1967D2;\n",
              "      height: 32px;\n",
              "      padding: 0 0 0 0;\n",
              "      width: 32px;\n",
              "    }\n",
              "\n",
              "    .colab-df-convert:hover {\n",
              "      background-color: #E2EBFA;\n",
              "      box-shadow: 0px 1px 2px rgba(60, 64, 67, 0.3), 0px 1px 3px 1px rgba(60, 64, 67, 0.15);\n",
              "      fill: #174EA6;\n",
              "    }\n",
              "\n",
              "    [theme=dark] .colab-df-convert {\n",
              "      background-color: #3B4455;\n",
              "      fill: #D2E3FC;\n",
              "    }\n",
              "\n",
              "    [theme=dark] .colab-df-convert:hover {\n",
              "      background-color: #434B5C;\n",
              "      box-shadow: 0px 1px 3px 1px rgba(0, 0, 0, 0.15);\n",
              "      filter: drop-shadow(0px 1px 2px rgba(0, 0, 0, 0.3));\n",
              "      fill: #FFFFFF;\n",
              "    }\n",
              "  </style>\n",
              "\n",
              "      <script>\n",
              "        const buttonEl =\n",
              "          document.querySelector('#df-6333fae7-8fa4-4234-a28f-985decff5ef5 button.colab-df-convert');\n",
              "        buttonEl.style.display =\n",
              "          google.colab.kernel.accessAllowed ? 'block' : 'none';\n",
              "\n",
              "        async function convertToInteractive(key) {\n",
              "          const element = document.querySelector('#df-6333fae7-8fa4-4234-a28f-985decff5ef5');\n",
              "          const dataTable =\n",
              "            await google.colab.kernel.invokeFunction('convertToInteractive',\n",
              "                                                     [key], {});\n",
              "          if (!dataTable) return;\n",
              "\n",
              "          const docLinkHtml = 'Like what you see? Visit the ' +\n",
              "            '<a target=\"_blank\" href=https://colab.research.google.com/notebooks/data_table.ipynb>data table notebook</a>'\n",
              "            + ' to learn more about interactive tables.';\n",
              "          element.innerHTML = '';\n",
              "          dataTable['output_type'] = 'display_data';\n",
              "          await google.colab.output.renderOutput(dataTable, element);\n",
              "          const docLink = document.createElement('div');\n",
              "          docLink.innerHTML = docLinkHtml;\n",
              "          element.appendChild(docLink);\n",
              "        }\n",
              "      </script>\n",
              "    </div>\n",
              "  </div>\n",
              "  "
            ],
            "text/plain": [
              "                                class\n",
              "0          AM General Hummer SUV 2000\n",
              "1                 Acura RL Sedan 2012\n",
              "2                 Acura TL Sedan 2012\n",
              "3                Acura TL Type-S 2008\n",
              "4                Acura TSX Sedan 2012\n",
              "..                                ...\n",
              "191  Volkswagen Beetle Hatchback 2012\n",
              "192          Volvo C30 Hatchback 2012\n",
              "193              Volvo 240 Sedan 1993\n",
              "194               Volvo XC90 SUV 2007\n",
              "195     smart fortwo Convertible 2012\n",
              "\n",
              "[196 rows x 1 columns]"
            ]
          },
          "execution_count": 57,
          "metadata": {},
          "output_type": "execute_result"
        }
      ],
      "source": [
        "#df for class_names\n",
        "class_names = []\n",
        "for i in range(0,len(classn[0])) :\n",
        "    class_names.append(classn[0][i][0])\n",
        "c = np.array(class_names)\n",
        "columns = ['class']\n",
        "df_class = pd.DataFrame()\n",
        "df_class['class'] = c.tolist()\n",
        "df_class"
      ]
    },
    {
      "cell_type": "code",
      "execution_count": null,
      "metadata": {
        "cell_id": "c1db69d441ec40a782ca130f95971526",
        "colab": {
          "base_uri": "https://localhost:8080/",
          "height": 424
        },
        "deepnote_cell_height": 737.6666870117188,
        "deepnote_cell_type": "code",
        "deepnote_table_loading": false,
        "deepnote_table_state": {
          "filters": [],
          "pageIndex": 0,
          "pageSize": 10,
          "sortBy": []
        },
        "deepnote_to_be_reexecuted": true,
        "execution_millis": 558,
        "execution_start": 1659019583033,
        "id": "Q8k6_5cU5nlV",
        "outputId": "c2de45d0-3bf4-41f1-ead6-6a2765ee9726",
        "owner_user_id": "016ff103-5c79-4470-beb0-85b40dc25fa3",
        "source_hash": "cc14cabe",
        "tags": []
      },
      "outputs": [
        {
          "data": {
            "text/html": [
              "\n",
              "  <div id=\"df-fb73475f-4d03-4741-af4a-b3dc0017720c\">\n",
              "    <div class=\"colab-df-container\">\n",
              "      <div>\n",
              "<style scoped>\n",
              "    .dataframe tbody tr th:only-of-type {\n",
              "        vertical-align: middle;\n",
              "    }\n",
              "\n",
              "    .dataframe tbody tr th {\n",
              "        vertical-align: top;\n",
              "    }\n",
              "\n",
              "    .dataframe thead th {\n",
              "        text-align: right;\n",
              "    }\n",
              "</style>\n",
              "<table border=\"1\" class=\"dataframe\">\n",
              "  <thead>\n",
              "    <tr style=\"text-align: right;\">\n",
              "      <th></th>\n",
              "      <th>img</th>\n",
              "      <th>class</th>\n",
              "    </tr>\n",
              "  </thead>\n",
              "  <tbody>\n",
              "    <tr>\n",
              "      <th>0</th>\n",
              "      <td>car_ims/000001.jpg</td>\n",
              "      <td>AM General Hummer SUV 2000</td>\n",
              "    </tr>\n",
              "    <tr>\n",
              "      <th>1</th>\n",
              "      <td>car_ims/000002.jpg</td>\n",
              "      <td>AM General Hummer SUV 2000</td>\n",
              "    </tr>\n",
              "    <tr>\n",
              "      <th>2</th>\n",
              "      <td>car_ims/000003.jpg</td>\n",
              "      <td>AM General Hummer SUV 2000</td>\n",
              "    </tr>\n",
              "    <tr>\n",
              "      <th>3</th>\n",
              "      <td>car_ims/000004.jpg</td>\n",
              "      <td>AM General Hummer SUV 2000</td>\n",
              "    </tr>\n",
              "    <tr>\n",
              "      <th>4</th>\n",
              "      <td>car_ims/000005.jpg</td>\n",
              "      <td>AM General Hummer SUV 2000</td>\n",
              "    </tr>\n",
              "    <tr>\n",
              "      <th>...</th>\n",
              "      <td>...</td>\n",
              "      <td>...</td>\n",
              "    </tr>\n",
              "    <tr>\n",
              "      <th>10512</th>\n",
              "      <td>car_ims/010513.jpg</td>\n",
              "      <td>Honda Odyssey Minivan 2007</td>\n",
              "    </tr>\n",
              "    <tr>\n",
              "      <th>10513</th>\n",
              "      <td>car_ims/010514.jpg</td>\n",
              "      <td>Honda Odyssey Minivan 2007</td>\n",
              "    </tr>\n",
              "    <tr>\n",
              "      <th>10514</th>\n",
              "      <td>car_ims/010515.jpg</td>\n",
              "      <td>Honda Odyssey Minivan 2007</td>\n",
              "    </tr>\n",
              "    <tr>\n",
              "      <th>10515</th>\n",
              "      <td>car_ims/010516.jpg</td>\n",
              "      <td>Honda Odyssey Minivan 2007</td>\n",
              "    </tr>\n",
              "    <tr>\n",
              "      <th>10516</th>\n",
              "      <td>car_ims/010517.jpg</td>\n",
              "      <td>Honda Odyssey Minivan 2007</td>\n",
              "    </tr>\n",
              "  </tbody>\n",
              "</table>\n",
              "<p>10517 rows × 2 columns</p>\n",
              "</div>\n",
              "      <button class=\"colab-df-convert\" onclick=\"convertToInteractive('df-fb73475f-4d03-4741-af4a-b3dc0017720c')\"\n",
              "              title=\"Convert this dataframe to an interactive table.\"\n",
              "              style=\"display:none;\">\n",
              "        \n",
              "  <svg xmlns=\"http://www.w3.org/2000/svg\" height=\"24px\"viewBox=\"0 0 24 24\"\n",
              "       width=\"24px\">\n",
              "    <path d=\"M0 0h24v24H0V0z\" fill=\"none\"/>\n",
              "    <path d=\"M18.56 5.44l.94 2.06.94-2.06 2.06-.94-2.06-.94-.94-2.06-.94 2.06-2.06.94zm-11 1L8.5 8.5l.94-2.06 2.06-.94-2.06-.94L8.5 2.5l-.94 2.06-2.06.94zm10 10l.94 2.06.94-2.06 2.06-.94-2.06-.94-.94-2.06-.94 2.06-2.06.94z\"/><path d=\"M17.41 7.96l-1.37-1.37c-.4-.4-.92-.59-1.43-.59-.52 0-1.04.2-1.43.59L10.3 9.45l-7.72 7.72c-.78.78-.78 2.05 0 2.83L4 21.41c.39.39.9.59 1.41.59.51 0 1.02-.2 1.41-.59l7.78-7.78 2.81-2.81c.8-.78.8-2.07 0-2.86zM5.41 20L4 18.59l7.72-7.72 1.47 1.35L5.41 20z\"/>\n",
              "  </svg>\n",
              "      </button>\n",
              "      \n",
              "  <style>\n",
              "    .colab-df-container {\n",
              "      display:flex;\n",
              "      flex-wrap:wrap;\n",
              "      gap: 12px;\n",
              "    }\n",
              "\n",
              "    .colab-df-convert {\n",
              "      background-color: #E8F0FE;\n",
              "      border: none;\n",
              "      border-radius: 50%;\n",
              "      cursor: pointer;\n",
              "      display: none;\n",
              "      fill: #1967D2;\n",
              "      height: 32px;\n",
              "      padding: 0 0 0 0;\n",
              "      width: 32px;\n",
              "    }\n",
              "\n",
              "    .colab-df-convert:hover {\n",
              "      background-color: #E2EBFA;\n",
              "      box-shadow: 0px 1px 2px rgba(60, 64, 67, 0.3), 0px 1px 3px 1px rgba(60, 64, 67, 0.15);\n",
              "      fill: #174EA6;\n",
              "    }\n",
              "\n",
              "    [theme=dark] .colab-df-convert {\n",
              "      background-color: #3B4455;\n",
              "      fill: #D2E3FC;\n",
              "    }\n",
              "\n",
              "    [theme=dark] .colab-df-convert:hover {\n",
              "      background-color: #434B5C;\n",
              "      box-shadow: 0px 1px 3px 1px rgba(0, 0, 0, 0.15);\n",
              "      filter: drop-shadow(0px 1px 2px rgba(0, 0, 0, 0.3));\n",
              "      fill: #FFFFFF;\n",
              "    }\n",
              "  </style>\n",
              "\n",
              "      <script>\n",
              "        const buttonEl =\n",
              "          document.querySelector('#df-fb73475f-4d03-4741-af4a-b3dc0017720c button.colab-df-convert');\n",
              "        buttonEl.style.display =\n",
              "          google.colab.kernel.accessAllowed ? 'block' : 'none';\n",
              "\n",
              "        async function convertToInteractive(key) {\n",
              "          const element = document.querySelector('#df-fb73475f-4d03-4741-af4a-b3dc0017720c');\n",
              "          const dataTable =\n",
              "            await google.colab.kernel.invokeFunction('convertToInteractive',\n",
              "                                                     [key], {});\n",
              "          if (!dataTable) return;\n",
              "\n",
              "          const docLinkHtml = 'Like what you see? Visit the ' +\n",
              "            '<a target=\"_blank\" href=https://colab.research.google.com/notebooks/data_table.ipynb>data table notebook</a>'\n",
              "            + ' to learn more about interactive tables.';\n",
              "          element.innerHTML = '';\n",
              "          dataTable['output_type'] = 'display_data';\n",
              "          await google.colab.output.renderOutput(dataTable, element);\n",
              "          const docLink = document.createElement('div');\n",
              "          docLink.innerHTML = docLinkHtml;\n",
              "          element.appendChild(docLink);\n",
              "        }\n",
              "      </script>\n",
              "    </div>\n",
              "  </div>\n",
              "  "
            ],
            "text/plain": [
              "                      img                       class\n",
              "0      car_ims/000001.jpg  AM General Hummer SUV 2000\n",
              "1      car_ims/000002.jpg  AM General Hummer SUV 2000\n",
              "2      car_ims/000003.jpg  AM General Hummer SUV 2000\n",
              "3      car_ims/000004.jpg  AM General Hummer SUV 2000\n",
              "4      car_ims/000005.jpg  AM General Hummer SUV 2000\n",
              "...                   ...                         ...\n",
              "10512  car_ims/010513.jpg  Honda Odyssey Minivan 2007\n",
              "10513  car_ims/010514.jpg  Honda Odyssey Minivan 2007\n",
              "10514  car_ims/010515.jpg  Honda Odyssey Minivan 2007\n",
              "10515  car_ims/010516.jpg  Honda Odyssey Minivan 2007\n",
              "10516  car_ims/010517.jpg  Honda Odyssey Minivan 2007\n",
              "\n",
              "[10517 rows x 2 columns]"
            ]
          },
          "execution_count": 59,
          "metadata": {},
          "output_type": "execute_result"
        }
      ],
      "source": [
        "# df en deux suivant column test\n",
        "df_train = pd.DataFrame()\n",
        "#print(df_annot)\n",
        "df_train['img'] = df_annot.relative_im_path\n",
        "df_train['class'] = df_annot['class']\n",
        "selRows = df_train[df_train['class'] <= -60].index\n",
        "df_train = df_train.drop(selRows, axis=0)\n",
        "for i in range(0,196) :\n",
        "    a= i+1\n",
        "    df_train['class'] = df_train['class'].replace({a:df_class['class'][i]})\n",
        "df_train"
      ]
    },
    {
      "cell_type": "code",
      "execution_count": null,
      "metadata": {
        "cell_id": "b6ee14c586ba47199f0f7dcdd642eb93",
        "colab": {
          "base_uri": "https://localhost:8080/",
          "height": 424
        },
        "deepnote_cell_height": 701.6666870117188,
        "deepnote_cell_type": "code",
        "deepnote_to_be_reexecuted": true,
        "execution_millis": 691,
        "execution_start": 1659019583595,
        "id": "-Uy1V_OK5nlY",
        "outputId": "16bf88bf-676c-49f5-b2a6-09420523e350",
        "source_hash": "91ab8759",
        "tags": []
      },
      "outputs": [],
      "source": [
        "df_test = pd.DataFrame()\n",
        "df_test['img'] = df_annot.relative_im_path[df_annot.test == 1]\n",
        "df_test['class'] = df_annot['class'][df_annot.test == 1]\n",
        "for i in range(0,196) :\n",
        "    a= i+1\n",
        "    df_test['class'] = df_test['class'].replace({a:df_class['class'][i]})\n",
        "df_test"
      ]
    },
    {
      "cell_type": "code",
      "execution_count": null,
      "metadata": {},
      "outputs": [],
      "source": [
        "df_number = pd.DataFrame(df_train.groupby(['class']).count())\n",
        "print(df_number)\n",
        "df_number.plot(rot=45)\n"
      ]
    },
    {
      "cell_type": "code",
      "execution_count": null,
      "metadata": {
        "cell_id": "b8d8180045464de5a4ea2a017d93f872",
        "colab": {
          "base_uri": "https://localhost:8080/"
        },
        "deepnote_cell_height": 202.3333282470703,
        "deepnote_cell_type": "code",
        "deepnote_output_heights": [
          21
        ],
        "deepnote_to_be_reexecuted": true,
        "execution_millis": 93,
        "execution_start": 1659019584292,
        "id": "Km4Hu73L5nlb",
        "outputId": "d004f59d-35f1-466c-c155-e5b5cb5fe2c2",
        "source_hash": "c69d2ba4",
        "tags": []
      },
      "outputs": [],
      "source": [
        "# image data generator : .1/255\n",
        "datagen=ImageDataGenerator(rescale=1./255, validation_split=0.2)\n",
        "datagen\n"
      ]
    },
    {
      "cell_type": "code",
      "execution_count": null,
      "metadata": {
        "cell_id": "c6c8af9a09d5425cb78f183be8ca5b83",
        "colab": {
          "base_uri": "https://localhost:8080/"
        },
        "deepnote_cell_height": 703.5999755859375,
        "deepnote_cell_type": "code",
        "deepnote_to_be_reexecuted": true,
        "execution_millis": 742,
        "execution_start": 1659019584326,
        "id": "rzbSgKNo5nle",
        "outputId": "a4dc67f3-241a-4f5e-f488-37ae902b5c14",
        "source_hash": "9ceb6d",
        "tags": []
      },
      "outputs": [
        {
          "name": "stdout",
          "output_type": "stream",
          "text": [
            "Found 8414 validated image filenames belonging to 127 classes.\n",
            "Found 2103 validated image filenames belonging to 127 classes.\n"
          ]
        }
      ],
      "source": [
        "train_generator=datagen.flow_from_dataframe(\n",
        "    dataframe=df_train,\n",
        "    directory=\"/content/sample_data/data/\",\n",
        "    x_col=\"img\",\n",
        "    y_col=\"class\",\n",
        "    subset=\"training\",\n",
        "    target_size=(150, 150),\n",
        "    batch_size=32,\n",
        "    seed=42,\n",
        "    shuffle=True,\n",
        "    class_mode=\"categorical\")\n",
        "    \n",
        "valid_generator=datagen.flow_from_dataframe(\n",
        "    dataframe=df_train,\n",
        "    directory=\"/content/sample_data/data/\",\n",
        "    x_col=\"img\",\n",
        "    y_col=\"class\",\n",
        "    subset=\"validation\",\n",
        "    target_size=(150, 150),\n",
        "    batch_size=32,\n",
        "    seed=42,\n",
        "    shuffle=True,\n",
        "    class_mode=\"categorical\")\n",
        "\n",
        "# test_datagen=ImageDataGenerator(rescale=1./255.)\n",
        "# test_generator=test_datagen.flow_from_dataframe(\n",
        "#     dataframe=df_test,\n",
        "#     directory=\"./data/\",\n",
        "#     x_col=\"img\",\n",
        "#     y_col=None,\n",
        "#     batch_size=32,\n",
        "#     seed=42,\n",
        "#     shuffle=False,\n",
        "#     class_mode=None)"
      ]
    },
    {
      "cell_type": "code",
      "execution_count": null,
      "metadata": {
        "cell_id": "0496494354664d2abec2250ba9956157",
        "deepnote_cell_height": 381.33331298828125,
        "deepnote_cell_type": "code",
        "deepnote_to_be_reexecuted": true,
        "execution_millis": 80,
        "execution_start": 1659022915769,
        "id": "6JKBKNUb5nlk",
        "source_hash": "830e475f",
        "tags": []
      },
      "outputs": [],
      "source": [
        "# Our input feature map is 150x150x3: 150x150 for the image pixels, and 3 for\n",
        "# the three color channels: R, G, and B\n",
        "img_input = layers.Input(shape=(150, 150, 3))\n",
        "\n",
        "# First convolution extracts 16 filters that are 3x3\n",
        "# Convolution is followed by max-pooling layer with a 2x2 window\n",
        "x = layers.Conv2D(16, 3, activation='relu')(img_input)\n",
        "x = layers.MaxPooling2D(2)(x)\n",
        "\n",
        "# Second convolution extracts 32 filters that are 3x3\n",
        "# Convolution is followed by max-pooling layer with a 2x2 window\n",
        "x = layers.Conv2D(32, 3, activation='relu')(x)\n",
        "x = layers.MaxPooling2D(2)(x)\n",
        "\n",
        "# Third convolution extracts 64 filters that are 3x3\n",
        "# Convolution is followed by max-pooling layer with a 2x2 window\n",
        "x = layers.Conv2D(64, 3, activation='relu')(x)\n",
        "x = layers.MaxPooling2D(2)(x)"
      ]
    },
    {
      "cell_type": "code",
      "execution_count": null,
      "metadata": {
        "cell_id": "1df90f6f056646ab8dcd2420fecc67ea",
        "deepnote_cell_height": 327.33331298828125,
        "deepnote_cell_type": "code",
        "deepnote_to_be_reexecuted": true,
        "execution_millis": 314,
        "execution_start": 1659022918022,
        "id": "Oll-tLV45nlm",
        "source_hash": "e7c34eb",
        "tags": []
      },
      "outputs": [],
      "source": [
        "# Flatten feature map to a 1-dim tensor so we can add fully connected layers\n",
        "x = layers.Flatten()(x)\n",
        "\n",
        "# Create a fully connected layer with ReLU activation and 512 hidden units\n",
        "x = layers.Dense(512, activation='relu')(x)\n",
        "\n",
        "# Create output layer with a single node and sigmoid activation\n",
        "output = layers.Dense(127, activation='softmax')(x)\n",
        "\n",
        "# Create model:\n",
        "# input = input feature map\n",
        "# output = input feature map + stacked convolution/maxpooling layers + fully \n",
        "# connected layer + sigmoid output layer\n",
        "model = Model(img_input, output)\n"
      ]
    },
    {
      "cell_type": "code",
      "execution_count": null,
      "metadata": {
        "cell_id": "060fb99503f044c6b326a213e28345be",
        "colab": {
          "base_uri": "https://localhost:8080/"
        },
        "deepnote_cell_height": 695.3333129882812,
        "deepnote_cell_type": "code",
        "deepnote_to_be_reexecuted": true,
        "execution_millis": 1358,
        "execution_start": 1659022936542,
        "id": "-sgKmSaJ5nln",
        "outputId": "1d8bf802-c3e3-48b0-a650-cd3a01e0749e",
        "source_hash": "4e6a3b95",
        "tags": []
      },
      "outputs": [],
      "source": [
        "model.summary()"
      ]
    },
    {
      "cell_type": "code",
      "execution_count": null,
      "metadata": {
        "cell_id": "04dbe7be3a4b46c18c30517a71ee3340",
        "colab": {
          "base_uri": "https://localhost:8080/"
        },
        "deepnote_cell_height": 174.3333282470703,
        "deepnote_cell_type": "code",
        "deepnote_to_be_reexecuted": true,
        "execution_millis": 118,
        "execution_start": 1659077926833,
        "id": "Phf-u2ce5nlr",
        "outputId": "761b6126-58a2-4cb4-d2d6-1ea84d28a072",
        "source_hash": "1946cf22",
        "tags": []
      },
      "outputs": [],
      "source": [
        "model.compile(loss='categorical_crossentropy',\n",
        "              optimizer='rmsprop',\n",
        "              metrics=['acc'])"
      ]
    },
    {
      "cell_type": "code",
      "execution_count": null,
      "metadata": {
        "cell_id": "e9887512c53048449525fdaa7391602e",
        "colab": {
          "base_uri": "https://localhost:8080/"
        },
        "deepnote_cell_height": 2516.533447265625,
        "deepnote_cell_type": "code",
        "deepnote_to_be_reexecuted": true,
        "execution_millis": 5836,
        "execution_start": 1659022983406,
        "id": "vWb__z825nlt",
        "outputId": "0d2ef1d0-2246-4cb0-8b61-3f0a2b472c1c",
        "source_hash": "61413360",
        "tags": []
      },
      "outputs": [],
      "source": [
        "STEP_SIZE_TRAIN=train_generator.n//train_generator.batch_size\n",
        "STEP_SIZE_VALID=valid_generator.n//valid_generator.batch_size\n",
        "# STEP_SIZE_TEST=test_generator.n//test_generator.batch_size\n",
        "model.fit(train_generator,\n",
        "                    steps_per_epoch=STEP_SIZE_TRAIN,\n",
        "                    validation_data=valid_generator,\n",
        "                    validation_steps=STEP_SIZE_VALID,\n",
        "                    epochs=10\n",
        ")"
      ]
    },
    {
      "cell_type": "code",
      "execution_count": null,
      "metadata": {
        "colab": {
          "base_uri": "https://localhost:8080/",
          "height": 1000
        },
        "id": "G2RrfS3kME6x",
        "outputId": "b867ace6-28c4-4bf2-fdc3-f78e72e627ea"
      },
      "outputs": [],
      "source": [
        "img_path = '/content/img.jpg'\n",
        "img = image.load_img(img_path, target_size=(150, 150))\n",
        "x = image.img_to_array(img)\n",
        "x = np.expand_dims(x, axis=0)\n",
        "x = preprocess_input(x)\n",
        "preds = model.predict(x)\n",
        "\n",
        "# print('Predicted:', decode_predictions(preds, top=3)[0])"
      ]
    },
    {
      "cell_type": "code",
      "execution_count": null,
      "metadata": {
        "colab": {
          "base_uri": "https://localhost:8080/"
        },
        "id": "l3PbseSAPqtQ",
        "outputId": "837a3011-7d7d-431f-ee3b-f0a0bd6bff39"
      },
      "outputs": [],
      "source": [
        "train_generator=datagen.flow_from_dataframe(\n",
        "    dataframe=df_train,\n",
        "    directory=\"/content/sample_data/data/\",\n",
        "    x_col=\"img\",\n",
        "    y_col=\"class\",\n",
        "    subset=\"training\",\n",
        "    target_size=(224, 224),\n",
        "    batch_size=32,\n",
        "    seed=42,\n",
        "    shuffle=True,\n",
        "    class_mode=\"categorical\")\n",
        "    \n",
        "valid_generator=datagen.flow_from_dataframe(\n",
        "    dataframe=df_train,\n",
        "    directory=\"/content/sample_data/data/\",\n",
        "    x_col=\"img\",\n",
        "    y_col=\"class\",\n",
        "    subset=\"validation\",\n",
        "    target_size=(224, 224),\n",
        "    batch_size=32,\n",
        "    seed=42,\n",
        "    shuffle=True,\n",
        "    class_mode=\"categorical\")\n",
        "model2 = ResNet50V2()\n",
        "model2.summary()"
      ]
    },
    {
      "cell_type": "code",
      "execution_count": null,
      "metadata": {
        "colab": {
          "base_uri": "https://localhost:8080/"
        },
        "id": "P6laSjKvVCk_",
        "outputId": "c3d6bb67-9efa-480f-e2ee-9f6cb340016a"
      },
      "outputs": [],
      "source": [
        "datagen"
      ]
    },
    {
      "cell_type": "code",
      "execution_count": 127,
      "metadata": {
        "id": "IFd3pqvtQdGq"
      },
      "outputs": [],
      "source": [
        "cnn = Sequential()\n",
        "# cnn.get_config()\n",
        "for layer in model.layers[:-1]:\n",
        "    cnn.add(layer)\n",
        "# cnn.summary()"
      ]
    },
    {
      "cell_type": "code",
      "execution_count": 128,
      "metadata": {
        "id": "KINF0I9pS-_S"
      },
      "outputs": [],
      "source": [
        "for layer in cnn.layers:\n",
        "    layer.trainable = False\n",
        "cnn.add(Dense(units=127, activation='softmax'))\n"
      ]
    },
    {
      "cell_type": "code",
      "execution_count": 129,
      "metadata": {
        "id": "QHRcW0dQT9ET"
      },
      "outputs": [],
      "source": [
        "cnn.compile(loss='categorical_crossentropy',\n",
        "              optimizer='rmsprop',\n",
        "              metrics=['accuracy'])"
      ]
    },
    {
      "cell_type": "code",
      "execution_count": null,
      "metadata": {},
      "outputs": [],
      "source": [
        "cnn.summary()"
      ]
    },
    {
      "cell_type": "code",
      "execution_count": null,
      "metadata": {
        "colab": {
          "base_uri": "https://localhost:8080/"
        },
        "id": "4LJXVY4JQlm0",
        "outputId": "3b95f697-4ac2-4511-ee88-f86caa2e0fcf"
      },
      "outputs": [],
      "source": [
        "STEP_SIZE_TRAIN=train_generator.n//train_generator.batch_size\n",
        "STEP_SIZE_VALID=valid_generator.n//valid_generator.batch_size\n",
        "# STEP_SIZE_TEST=test_generator.n//test_generator.batch_size\n",
        "cnn.fit(train_generator,\n",
        "                    steps_per_epoch=STEP_SIZE_TRAIN,\n",
        "                    validation_data=valid_generator,\n",
        "                    validation_steps=STEP_SIZE_VALID,\n",
        "                    epochs=2\n",
        ")"
      ]
    },
    {
      "cell_type": "code",
      "execution_count": null,
      "metadata": {
        "cell_id": "00005-82398166-d4dd-4822-b05f-2e3f2009eceb",
        "deepnote_cell_height": 1250.3333740234375,
        "deepnote_cell_type": "code",
        "deepnote_to_be_reexecuted": true,
        "execution_millis": 20,
        "execution_start": 1658992844519,
        "id": "UnRiGBfOF8rq",
        "source_hash": "57d7b1b0"
      },
      "outputs": [],
      "source": [
        "image = tf.io.read_file('/content/img.jpg')\n",
        "image = tf.image.decode_jpeg(image)\n",
        "image = tf.cast(image, tf.float32)\n",
        "image = tf.image.resize_with_crop_or_pad(\n",
        "    image, target_height=224, target_width=224)\n",
        "image = preprocess_input(image)\n",
        "predictions = cnn.predict(image)\n"
      ]
    }
  ],
  "metadata": {
    "accelerator": "TPU",
    "colab": {
      "collapsed_sections": [],
      "name": "jupyter-matlab.ipynb",
      "provenance": []
    },
    "deepnote": {},
    "deepnote_execution_queue": [
      {
        "cellId": "b7379fc22fd94ddda632d1333f4370b5",
        "msgId": "daf61de2-7f3b-4818-a1e9-48a87d84839c",
        "sessionId": "fec86e78-f5ea-4ff6-a3c1-a4ab4bec5b3e"
      },
      {
        "cellId": "d84c8c55a56d42c7a5819c2eb418ba5f",
        "msgId": "8fca7914-1a43-4a6d-a836-bff24b986140",
        "sessionId": "fec86e78-f5ea-4ff6-a3c1-a4ab4bec5b3e"
      },
      {
        "cellId": "00004-1c828c6d-fbf0-4900-a2c1-5cb145097aca",
        "msgId": "181c4106-a95c-48aa-8dc7-f8567dc6439c",
        "sessionId": "fec86e78-f5ea-4ff6-a3c1-a4ab4bec5b3e"
      },
      {
        "cellId": "2bbdbb378ac34ec9ac7501b6e3a7c7c1",
        "msgId": "d35711ba-f32d-41a6-86c2-f31a70177bf0",
        "sessionId": "fec86e78-f5ea-4ff6-a3c1-a4ab4bec5b3e"
      },
      {
        "cellId": "3cfe382372cd4a21bc266bda0fa22285",
        "msgId": "1d716ae5-734d-4cd6-ab4f-a0802cfd84f3",
        "sessionId": "fec86e78-f5ea-4ff6-a3c1-a4ab4bec5b3e"
      },
      {
        "cellId": "ff4d3e9574e8415d8a457150f9b531bf",
        "msgId": "7a3e12c3-22ba-4f93-99f6-07412355cf38",
        "sessionId": "fec86e78-f5ea-4ff6-a3c1-a4ab4bec5b3e"
      },
      {
        "cellId": "96fd15257fbc49c39251bdf3a1a2bf1b",
        "msgId": "be0c02c3-2197-46a3-991e-e669d23cb495",
        "sessionId": "fec86e78-f5ea-4ff6-a3c1-a4ab4bec5b3e"
      },
      {
        "cellId": "c1db69d441ec40a782ca130f95971526",
        "msgId": "ae726f10-27cb-4663-9512-a16d3b96b802",
        "sessionId": "fec86e78-f5ea-4ff6-a3c1-a4ab4bec5b3e"
      },
      {
        "cellId": "b6ee14c586ba47199f0f7dcdd642eb93",
        "msgId": "a806ff77-6e4d-4cdd-b8fe-3e226d983ce4",
        "sessionId": "fec86e78-f5ea-4ff6-a3c1-a4ab4bec5b3e"
      },
      {
        "cellId": "b8d8180045464de5a4ea2a017d93f872",
        "msgId": "6cfc51f8-4886-4669-8a47-0ba8aff4752a",
        "sessionId": "fec86e78-f5ea-4ff6-a3c1-a4ab4bec5b3e"
      },
      {
        "cellId": "c6c8af9a09d5425cb78f183be8ca5b83",
        "msgId": "32dab4e8-499c-4249-b8fe-43e364683568",
        "sessionId": "fec86e78-f5ea-4ff6-a3c1-a4ab4bec5b3e"
      },
      {
        "cellId": "fb65413c307c44628ae674330ce8d35a",
        "msgId": "a272baea-e17f-4b15-814d-2f62ca4bff1d",
        "sessionId": "fec86e78-f5ea-4ff6-a3c1-a4ab4bec5b3e"
      },
      {
        "cellId": "40c7e5bd984a46eea345a24f3492f58b",
        "msgId": "11371d93-22e6-4932-8b85-07cced343b62",
        "sessionId": "fec86e78-f5ea-4ff6-a3c1-a4ab4bec5b3e"
      },
      {
        "cellId": "cbe4197400de42c1943f4e0d577d3ade",
        "msgId": "257983d0-74fa-42cd-93cc-2c72b4c651fb",
        "sessionId": "fec86e78-f5ea-4ff6-a3c1-a4ab4bec5b3e"
      },
      {
        "cellId": "0496494354664d2abec2250ba9956157",
        "msgId": "ffc9a1b1-75c8-4f8c-a9f3-328d01915148",
        "sessionId": "fec86e78-f5ea-4ff6-a3c1-a4ab4bec5b3e"
      },
      {
        "cellId": "1df90f6f056646ab8dcd2420fecc67ea",
        "msgId": "f1ccc0b3-61a7-46f6-8f17-243a74c1fcb6",
        "sessionId": "fec86e78-f5ea-4ff6-a3c1-a4ab4bec5b3e"
      },
      {
        "cellId": "060fb99503f044c6b326a213e28345be",
        "msgId": "5c06bdc5-3114-439b-a3c5-72f508fffd5d",
        "sessionId": "fec86e78-f5ea-4ff6-a3c1-a4ab4bec5b3e"
      },
      {
        "cellId": "083dd0f0433443c79d79d3ecaf628ba9",
        "msgId": "2281d547-2ddd-4d14-88d6-fd5adbd73b0c",
        "sessionId": "fec86e78-f5ea-4ff6-a3c1-a4ab4bec5b3e"
      },
      {
        "cellId": "04dbe7be3a4b46c18c30517a71ee3340",
        "msgId": "936ea0a3-bd9d-40dd-906c-1320fcf3fb28",
        "sessionId": "fec86e78-f5ea-4ff6-a3c1-a4ab4bec5b3e"
      },
      {
        "cellId": "e9887512c53048449525fdaa7391602e",
        "msgId": "2977d05c-08ed-40f0-b3dc-900a83f096c2",
        "sessionId": "fec86e78-f5ea-4ff6-a3c1-a4ab4bec5b3e"
      },
      {
        "cellId": "1cfafadc7a544049b75555d4fc4d634c",
        "msgId": "06b6770b-d4ac-4f96-9ea7-0fce3efde43c",
        "sessionId": "fec86e78-f5ea-4ff6-a3c1-a4ab4bec5b3e"
      },
      {
        "cellId": "791854db9dc849658ff16b99259c536e",
        "msgId": "203e2e31-a0df-4843-92ae-27ab9c874e5c",
        "sessionId": "fec86e78-f5ea-4ff6-a3c1-a4ab4bec5b3e"
      },
      {
        "cellId": "e303f2e579964ccfbd61089c3dcdedff",
        "msgId": "e8ddb366-9699-4481-aa9f-2cd3ec4c11de",
        "sessionId": "fec86e78-f5ea-4ff6-a3c1-a4ab4bec5b3e"
      },
      {
        "cellId": "9453e6777c17431597f634342a24527f",
        "msgId": "d7dd713a-7bae-4447-a931-0239475ecb0d",
        "sessionId": "fec86e78-f5ea-4ff6-a3c1-a4ab4bec5b3e"
      },
      {
        "cellId": "00005-82398166-d4dd-4822-b05f-2e3f2009eceb",
        "msgId": "7ae05de5-4229-4ac7-ab0d-9c011ed7fadb",
        "sessionId": "fec86e78-f5ea-4ff6-a3c1-a4ab4bec5b3e"
      }
    ],
    "deepnote_notebook_id": "f9dd79f8-1af6-49e5-846d-c21655048854",
    "gpuClass": "standard",
    "kernelspec": {
      "display_name": "Python 3.8.0 64-bit",
      "language": "python",
      "name": "python3"
    },
    "language_info": {
      "codemirror_mode": {
        "name": "ipython",
        "version": 3
      },
      "file_extension": ".py",
      "mimetype": "text/x-python",
      "name": "python",
      "nbconvert_exporter": "python",
      "pygments_lexer": "ipython3",
      "version": "3.8.0"
    },
    "vscode": {
      "interpreter": {
        "hash": "f4e425d8792150d4561d0971a9d625b30d0bd5afd472d124a7bf44ecfe1b6f33"
      }
    }
  },
  "nbformat": 4,
  "nbformat_minor": 0
}
